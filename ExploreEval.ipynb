{
 "cells": [
  {
   "cell_type": "markdown",
   "metadata": {
    "heading_collapsed": true
   },
   "source": [
    "# Evaluation Strategy\n",
    "\n",
    "Rejection sampling to sample from the distribution of histories."
   ]
  },
  {
   "cell_type": "code",
   "execution_count": 1,
   "metadata": {
    "hidden": true
   },
   "outputs": [],
   "source": [
    "def innerloop(pi, rand, log):\n",
    "    for x, a, r, p in log:\n",
    "        maxratio = maxoverxa(lambda x, a: pi(x, a) / mu(x, a))\n",
    "        if rand.uniform() * maxratio * p < pi(x, a):\n",
    "            yield x, a, r  # note: yielded-to can change pi by reference here      \n",
    "\n",
    "def effectiveinnerloop(pi, mu, rand, actions, D):\n",
    "    for x, r in D:\n",
    "        a = rand.choice(actions,  p=[mu(x, a) for a in actions])  # non-uniform\n",
    "        p = mu(x, a)\n",
    "        \n",
    "        maxratio = maxoverxa(lambda x, a: pi(x, a) / mu(x, a))\n",
    "        if rand.uniform() * maxratio * p < pi(x, a):\n",
    "            yield x, a, r  # note: yielded-to can change pi by reference here"
   ]
  },
  {
   "cell_type": "markdown",
   "metadata": {
    "hidden": true
   },
   "source": [
    "from `effectiveinnerloop`\n",
    "$$\n",
    "\\begin{aligned}\n",
    "\\mathrm{Pr}\\left(\\text{yield}(x, a, r) \\left|\\right. h_{t-1} \\right) &\\propto \\mathrm{Pr}(x, r | h_{t-1}) \\mathrm{Pr}(a | x, r, h_{t-1}) \\mathrm{Pr}(\\text{yield}(x, a, r) | x, a, r, h_{t-1}) \\\\\n",
    "&\\propto \\mathrm{Pr}_D(x, r) \\mathrm{Pr}_{\\mu}(a | x) \\frac{1}{\\mathrm{Pr}_{\\mu}(a | x) \\max_{x'',a''} \\frac{\\pi(x'', a'')}{\\mu(x'', a'')} } \\mathrm{Pr}_{\\pi(h_{t-1})}\\left(a \\left|\\right. x\\right) \\\\\n",
    "&\\propto \\left(\\frac{1}{\\max_{x'',a''} \\frac{\\pi(x'', a'')}{\\mu(x'', a'')} } \\right) \\mathrm{Pr}_D(x, r) \\mathrm{Pr}_{\\pi(h_{t-1})}\\left(a \\left|\\right. x\\right)\n",
    "\\end{aligned}\n",
    "$$\n",
    "\n",
    "The normalization constant is exactly $\\max_{x'',a''} \\frac{\\pi(x'', a'')}{\\mu(x'', a'')}$ since the other terms integrate to 1.  So $\\left(\\frac{1}{\\max_{x'',a''} \\frac{\\pi(x'', a'')}{\\mu(x'', a'')} } \\right)$ is the acceptance rate, e.g. when $\\pi = \\mu$ the acceptance rate is 1.  \n",
    "\n",
    "In practice if $\\pi$ can be arbitrary then `maxratio` is $1/\\min_{x, a} \\mu(x, a)$ and the acceptance rate is $\\min_{x, a} \\mu(x, a)$."
   ]
  },
  {
   "cell_type": "markdown",
   "metadata": {},
   "source": [
    "# Code and Results"
   ]
  },
  {
   "cell_type": "code",
   "execution_count": 2,
   "metadata": {
    "code_folding": [
     0,
     18,
     107
    ]
   },
   "outputs": [],
   "source": [
    "class EasyAcc:\n",
    "    def __init__(self):\n",
    "        self.n = 0\n",
    "        self.sum = 0\n",
    "\n",
    "    def __iadd__(self, other):\n",
    "        self.n += 1\n",
    "        self.sum += other\n",
    "        return self\n",
    "    \n",
    "    def __isub__(self, other):\n",
    "        self.n += 1\n",
    "        self.sum -= other\n",
    "        return self\n",
    "\n",
    "    def mean(self):\n",
    "        return self.sum / max(self.n, 1)\n",
    "\n",
    "def evalit(path, seed, maxratio, veedub):\n",
    "    from vowpalwabbit import pyvw\n",
    "    import fnmatch\n",
    "    import gzip\n",
    "    import json\n",
    "    import os\n",
    "    import random\n",
    "    \n",
    "    randState = random.Random(seed)\n",
    "    vw = [ pyvw.vw(veedub) for _ in range(16) ]\n",
    "\n",
    "    dsfiles = (os.path.join(dirpath, f)\n",
    "               for dirpath, dirnames, files in os.walk(path)\n",
    "               for f in fnmatch.filter(files, '*.json.gz'))\n",
    "    \n",
    "    makeacc = lambda: [ EasyAcc() for _ in range(16)]\n",
    "    rawcount, acceptrate, cost, sincelastcost, sincelastpia = makeacc(), makeacc(), makeacc(), makeacc(), makeacc()\n",
    "    \n",
    "    print('{:<6s}\\t{:<8s}\\t{:<6s}\\t{:<25s}\\t{:<25s}\\t{:<9s}\\t{:<9s}'.format(\n",
    "                     'n', 'n raw', 'accept', 'cost', 'since last', 'pi[a]', 'since last pi[a]',\n",
    "                ),\n",
    "               flush=True)\n",
    "    \n",
    "    for fn in dsfiles:\n",
    "        with gzip.open(fn, 'rt') as f:\n",
    "            for line in f:\n",
    "                try:\n",
    "                    o = json.loads(line)\n",
    "                except:\n",
    "                    continue\n",
    "                    \n",
    "                if o.get('_skipLearn', False):\n",
    "                    continue\n",
    "\n",
    "                p = float(o['_label_probability'])\n",
    "                a = int(o['_labelIndex'])\n",
    "                \n",
    "                for ind in range(16):\n",
    "                    rawcount[ind] += 1\n",
    "                    pi = vw[ind].predict(line)\n",
    "\n",
    "                    if randState.random() * maxratio * p < pi[a]:\n",
    "                        acceptrate[ind] += 1\n",
    "                        cost[ind] += float(o['_label_cost'])\n",
    "                        sincelastcost[ind] += float(o['_label_cost'])\n",
    "                        sincelastpia[ind] += pi[a]\n",
    "\n",
    "                        o['_label_probability'] = pi[a]\n",
    "                        vw[ind].learn(json.dumps(o))\n",
    "\n",
    "                        if ind == 15 and cost[ind].n & (cost[ind].n - 1) == 0:\n",
    "                            sortcost = list(sorted(cost, key=lambda x: x.mean()))\n",
    "                            sortsincelastcost = list(sorted(sincelastcost, key=lambda x: x.mean()))\n",
    "\n",
    "                            print('{:<6d}\\t{:<8d}\\t{:<5.5f}\\t[{:<5.5f},{:<5.5f},{:<5.5f}]\\t[{:<5.5f},{:<5.5f},{:<5.5f}]\\t{:<9.5f}\\t{:<9.5f}'.format(\n",
    "                                        cost[ind].n,\n",
    "                                        rawcount[ind].n,\n",
    "                                        acceptrate[ind].mean(),\n",
    "                                        sortcost[1].mean(),\n",
    "                                        0.5 * (sortcost[7].mean() + sortcost[8].mean()),\n",
    "                                        sortcost[14].mean(),\n",
    "                                        sortsincelastcost[1].mean(),\n",
    "                                        0.5 * (sortsincelastcost[7].mean() + sortsincelastcost[8].mean()),\n",
    "                                        sortsincelastcost[14].mean(),\n",
    "                                        pi[a],\n",
    "                                        sincelastpia[ind].mean()\n",
    "                                 ),\n",
    "                                 flush=True)\n",
    "                            sincelastcost, sincelastpia = makeacc(), makeacc()\n",
    "                    else:\n",
    "                        acceptrate[ind] += 0\n",
    "     \n",
    "    sortcost = list(sorted(cost, key=lambda x: x.mean()))\n",
    "    sortsincelastcost = list(sorted(sincelastcost, key=lambda x: x.mean()))\n",
    "    print('{:<6d}\\t{:<8d}\\t{:<5.5f}\\t[{:<5.5f},{:<5.5f},{:<5.5f}]\\t[{:<5.5f},{:<5.5f},{:<5.5f}]\\t{:<9.5f}\\t{:<9.5f}'.format(\n",
    "                cost[15].n,\n",
    "                rawcount[15].n,\n",
    "                acceptrate[15].mean(),\n",
    "                sortcost[1].mean(),\n",
    "                0.5 * (sortcost[7].mean() + sortcost[8].mean()),\n",
    "                sortcost[14].mean(),\n",
    "                sortsincelastcost[1].mean(),\n",
    "                0.5 * (sortsincelastcost[7].mean() + sortsincelastcost[8].mean()),\n",
    "                sortsincelastcost[14].mean(),\n",
    "                pi[a],\n",
    "                sincelastpia[15].mean()\n",
    "         ),\n",
    "         flush=True)\n",
    "\n",
    "def forkit(func, args, kwds):\n",
    "    from multiprocessing import Pool\n",
    "    \n",
    "    pool = Pool(processes=1)\n",
    "    return pool.apply(func, args, kwds)"
   ]
  },
  {
   "cell_type": "markdown",
   "metadata": {},
   "source": [
    "## Baseline\n",
    "\n",
    "`--cb_explore_adf --epsilon 0.2 --dsjson --cb_type ips -q RA -q PA -l 0.0001 --l1 1e-06 --power_t 0`"
   ]
  },
  {
   "cell_type": "raw",
   "metadata": {},
   "source": [
    "n     \tn raw   \taccept\tcost                        \t since last                 \tpi[a]    \tsince last pi[a]\n",
    "1676535\t43741224\t0.03833\t[-0.02605,-0.02583,-0.02555]\t [-0.02614,-0.02578,-0.02543]\t0.02857  \t0.71692  "
   ]
  },
  {
   "cell_type": "markdown",
   "metadata": {
    "heading_collapsed": true
   },
   "source": [
    "### Details"
   ]
  },
  {
   "cell_type": "code",
   "execution_count": 82,
   "metadata": {
    "code_folding": [],
    "hidden": true
   },
   "outputs": [
    {
     "name": "stdout",
     "output_type": "stream",
     "text": [
      "n     \tn raw   \taccept\tcost                     \tsince last               \tpi[a]    \tsince last pi[a]\n",
      "1     \t10      \t0.10000\t[0.00000,0.00000,0.00000]\t[0.00000,0.00000,0.00000]\t0.16667  \t0.16667  \n",
      "2     \t40      \t0.05000\t[0.00000,0.00000,0.00000]\t[0.00000,0.00000,0.00000]\t0.16667  \t0.16667  \n",
      "4     \t129     \t0.03101\t[0.00000,0.00000,0.00000]\t[0.00000,0.00000,0.00000]\t0.20000  \t0.20000  \n",
      "8     \t307     \t0.02606\t[-0.10000,0.00000,0.00000]\t[-0.11111,0.00000,0.00000]\t0.16667  \t0.26667  \n",
      "16    \t469     \t0.03412\t[-0.06667,0.00000,0.00000]\t[0.00000,0.00000,0.00000]\t0.20000  \t0.17619  \n",
      "32    \t1180    \t0.02712\t[-0.04545,0.00000,0.00000]\t[-0.03448,0.00000,0.00000]\t0.20000  \t0.18542  \n",
      "64    \t2229    \t0.02871\t[-0.03409,-0.01212,0.00000]\t[-0.03030,0.00000,0.00000]\t0.20000  \t0.19427  \n",
      "128   \t3971    \t0.03223\t[-0.02740,-0.01246,0.00000]\t[-0.04286,-0.01366,0.00000]\t0.83333  \t0.20016  \n",
      "256   \t7522    \t0.03403\t[-0.02508,-0.01770,-0.00800]\t[-0.03906,-0.02037,0.00000]\t0.83333  \t0.70547  \n",
      "512   \t14334   \t0.03572\t[-0.02731,-0.01725,-0.01394]\t[-0.02734,-0.01620,-0.00840]\t0.83333  \t0.71999  \n",
      "1024  \t28472   \t0.03597\t[-0.02953,-0.02100,-0.01768]\t[-0.03148,-0.02653,-0.02170]\t0.90000  \t0.71648  \n",
      "2048  \t54041   \t0.03790\t[-0.02781,-0.02421,-0.02011]\t[-0.02957,-0.02637,-0.02137]\t0.84000  \t0.74011  \n",
      "4096  \t108012  \t0.03792\t[-0.02592,-0.02264,-0.02063]\t[-0.02616,-0.02108,-0.02031]\t0.04000  \t0.74206  \n",
      "8192  \t215101  \t0.03808\t[-0.02426,-0.02230,-0.01933]\t[-0.02447,-0.02084,-0.01803]\t0.84000  \t0.73077  \n",
      "16384 \t427097  \t0.03836\t[-0.02619,-0.02349,-0.02131]\t[-0.02877,-0.02581,-0.02097]\t0.84000  \t0.72607  \n",
      "32768 \t852015  \t0.03846\t[-0.02633,-0.02435,-0.02281]\t[-0.02688,-0.02450,-0.02230]\t0.84000  \t0.72679  \n",
      "65536 \t1702402 \t0.03850\t[-0.02540,-0.02401,-0.02336]\t[-0.02552,-0.02420,-0.02305]\t0.82857  \t0.71794  \n",
      "131072\t3417483 \t0.03835\t[-0.02573,-0.02492,-0.02431]\t[-0.02658,-0.02569,-0.02467]\t0.82857  \t0.71020  \n",
      "262144\t6858361 \t0.03822\t[-0.02561,-0.02519,-0.02444]\t[-0.02603,-0.02523,-0.02421]\t0.83333  \t0.71054  \n",
      "524288\t13745662\t0.03814\t[-0.02577,-0.02547,-0.02501]\t[-0.02605,-0.02571,-0.02533]\t0.02500  \t0.70996  \n",
      "1048576\t27514775\t0.03811\t[-0.02602,-0.02585,-0.02535]\t[-0.02651,-0.02607,-0.02581]\t0.04000  \t0.71166  \n",
      "1676535\t43741224\t0.03833\t[-0.02605,-0.02583,-0.02555]\t[-0.02614,-0.02578,-0.02543]\t0.02857  \t0.71692  \n"
     ]
    }
   ],
   "source": [
    "forkit(evalit, (),\n",
    "       kwds = {\n",
    "         'path' : '/mnt/c/Users/pmineiro/Downloads/iris/', \n",
    "         'seed' : 4545,\n",
    "         'maxratio' : 1/(0.2/5),\n",
    "         'veedub' : '--cb_explore_adf --epsilon 0.2 --dsjson --cb_type ips -q RA -q PA -l 0.0001 --l1 1e-06 --power_t 0'\n",
    "       })"
   ]
  },
  {
   "cell_type": "markdown",
   "metadata": {},
   "source": [
    "## ips $\\rightarrow$ mtr\n",
    "\n",
    "`--cb_explore_adf --epsilon 0.2 --dsjson --cb_type mtr -q RA -q PA -l 0.0001 --l1 1e-06 --power_t 0`\n",
    "\n",
    "No effect."
   ]
  },
  {
   "cell_type": "raw",
   "metadata": {},
   "source": [
    "n     \tn raw   \taccept\tcost                        \tsince last                  \tpi[a]    \tsince last pi[a]\n",
    "1667965\t43741224\t0.03813\t[-0.02598,-0.02568,-0.02533]\t[-0.02609,-0.02561,-0.02523]\t0.02857  \t0.71684  "
   ]
  },
  {
   "cell_type": "markdown",
   "metadata": {
    "heading_collapsed": true
   },
   "source": [
    "### Details"
   ]
  },
  {
   "cell_type": "code",
   "execution_count": 5,
   "metadata": {
    "code_folding": [],
    "hidden": true
   },
   "outputs": [
    {
     "name": "stdout",
     "output_type": "stream",
     "text": [
      "n     \tn raw   \taccept\tcost                     \tsince last               \tpi[a]    \tsince last pi[a]\n",
      "1     \t10      \t0.10000\t[0.00000,0.00000,0.00000]\t[0.00000,0.00000,0.00000]\t0.16667  \t0.16667  \n",
      "2     \t40      \t0.05000\t[0.00000,0.00000,0.00000]\t[0.00000,0.00000,0.00000]\t0.16667  \t0.16667  \n",
      "4     \t129     \t0.03101\t[0.00000,0.00000,0.00000]\t[0.00000,0.00000,0.00000]\t0.20000  \t0.20000  \n",
      "8     \t307     \t0.02606\t[-0.10000,0.00000,0.00000]\t[-0.11111,0.00000,0.00000]\t0.16667  \t0.26667  \n",
      "16    \t469     \t0.03412\t[-0.07143,0.00000,0.00000]\t[0.00000,0.00000,0.00000]\t0.20000  \t0.17619  \n",
      "32    \t1180    \t0.02712\t[-0.04255,0.00000,0.00000]\t[-0.05556,0.00000,0.00000]\t0.20000  \t0.18542  \n",
      "64    \t2229    \t0.02871\t[-0.03448,-0.01198,0.00000]\t[-0.03125,0.00000,0.00000]\t0.20000  \t0.19427  \n",
      "128   \t3973    \t0.03222\t[-0.02000,-0.01175,0.00000]\t[-0.01887,-0.01300,0.00000]\t0.23333  \t0.19078  \n",
      "256   \t7185    \t0.03563\t[-0.02349,-0.01549,-0.00340]\t[-0.03401,-0.01806,0.00000]\t0.23333  \t0.48737  \n",
      "512   \t14148   \t0.03619\t[-0.02312,-0.01672,-0.01085]\t[-0.03571,-0.01895,-0.01115]\t0.03333  \t0.73168  \n",
      "1024  \t28576   \t0.03583\t[-0.02498,-0.02029,-0.01517]\t[-0.02985,-0.02279,-0.01930]\t0.84000  \t0.71508  \n",
      "2048  \t54264   \t0.03774\t[-0.02539,-0.02375,-0.01837]\t[-0.03046,-0.02609,-0.02039]\t0.84000  \t0.74023  \n",
      "4096  \t108012  \t0.03792\t[-0.02570,-0.02261,-0.02064]\t[-0.02600,-0.02182,-0.01916]\t0.04000  \t0.74161  \n",
      "8192  \t216621  \t0.03782\t[-0.02428,-0.02198,-0.01958]\t[-0.02461,-0.02115,-0.01811]\t0.84000  \t0.72968  \n",
      "16384 \t428190  \t0.03826\t[-0.02645,-0.02346,-0.02140]\t[-0.02829,-0.02528,-0.02230]\t0.84000  \t0.72597  \n",
      "32768 \t853827  \t0.03838\t[-0.02583,-0.02392,-0.02304]\t[-0.02667,-0.02484,-0.02279]\t0.82857  \t0.72605  \n",
      "65536 \t1705260 \t0.03843\t[-0.02580,-0.02415,-0.02324]\t[-0.02531,-0.02438,-0.02288]\t0.83333  \t0.71727  \n",
      "131072\t3434551 \t0.03816\t[-0.02548,-0.02481,-0.02418]\t[-0.02600,-0.02526,-0.02426]\t0.02857  \t0.70963  \n",
      "262144\t6905865 \t0.03796\t[-0.02543,-0.02514,-0.02417]\t[-0.02584,-0.02531,-0.02462]\t0.82857  \t0.71009  \n",
      "524288\t13853916\t0.03784\t[-0.02576,-0.02543,-0.02490]\t[-0.02614,-0.02565,-0.02513]\t0.82857  \t0.70848  \n",
      "1048576\t27717329\t0.03783\t[-0.02602,-0.02584,-0.02539]\t[-0.02645,-0.02621,-0.02586]\t0.83333  \t0.71073  \n",
      "1667965\t43741224\t0.03813\t[-0.02598,-0.02568,-0.02533]\t[-0.02609,-0.02561,-0.02523]\t0.02857  \t0.71684  \n"
     ]
    }
   ],
   "source": [
    "forkit(evalit, (),\n",
    "       kwds = {\n",
    "         'path' : '/mnt/c/Users/pmineiro/Downloads/iris/', \n",
    "         'seed' : 4545,\n",
    "         'maxratio' : 1/(0.2/5),\n",
    "         'veedub' : '--cb_explore_adf --epsilon 0.2 --dsjson --cb_type mtr -q RA -q PA -l 0.0001 --l1 1e-06 --power_t 0'\n",
    "       })"
   ]
  },
  {
   "cell_type": "markdown",
   "metadata": {},
   "source": [
    "## softmax\n",
    "\n",
    "`--cb_explore_adf --softmax --epsilon 0.025 --lambda 160 --dsjson -q RA -q PA --cb_type mtr -l 0.1 --l1 1e-06 --power_t 0`\n",
    "\n",
    "Exploits more, but policy value about the same."
   ]
  },
  {
   "cell_type": "raw",
   "metadata": {},
   "source": [
    "n     \tn raw   \taccept\tcost                        \tsince last                  \tpi[a]    \tsince last pi[a]\n",
    "1387715\t43741224\t0.03173\t[-0.02615,-0.02580,-0.02540]\t[-0.02648,-0.02611,-0.02536]\t0.00357  \t0.86440  "
   ]
  },
  {
   "cell_type": "markdown",
   "metadata": {
    "heading_collapsed": true
   },
   "source": [
    "### Details"
   ]
  },
  {
   "cell_type": "code",
   "execution_count": 3,
   "metadata": {
    "hidden": true
   },
   "outputs": [
    {
     "name": "stdout",
     "output_type": "stream",
     "text": [
      "n     \tn raw   \taccept\tcost                     \tsince last               \tpi[a]    \tsince last pi[a]\n",
      "1     \t10      \t0.10000\t[0.00000,0.00000,0.00000]\t[0.00000,0.00000,0.00000]\t0.16667  \t0.16667  \n",
      "2     \t40      \t0.05000\t[0.00000,0.00000,0.00000]\t[0.00000,0.00000,0.00000]\t0.16667  \t0.16667  \n",
      "4     \t129     \t0.03101\t[0.00000,0.00000,0.00000]\t[0.00000,0.00000,0.00000]\t0.20000  \t0.20000  \n",
      "8     \t307     \t0.02606\t[-0.10000,0.00000,0.00000]\t[-0.10000,0.00000,0.00000]\t0.16667  \t0.26667  \n",
      "16    \t469     \t0.03412\t[-0.06667,0.00000,0.00000]\t[0.00000,0.00000,0.00000]\t0.20000  \t0.17619  \n",
      "32    \t1180    \t0.02712\t[-0.04444,0.00000,0.00000]\t[-0.03846,0.00000,0.00000]\t0.20000  \t0.18542  \n",
      "64    \t2229    \t0.02871\t[-0.03488,-0.01205,0.00000]\t[-0.06383,0.00000,0.00000]\t0.20000  \t0.19427  \n",
      "128   \t3973    \t0.03222\t[-0.03165,-0.00752,0.00000]\t[-0.03226,0.00000,0.00000]\t0.21018  \t0.19070  \n",
      "256   \t7185    \t0.03563\t[-0.02347,-0.01597,-0.00382]\t[-0.03571,-0.02225,0.00000]\t0.32008  \t0.49247  \n",
      "512   \t18434   \t0.02777\t[-0.02240,-0.01730,-0.01014]\t[-0.02857,-0.01553,-0.01036]\t0.66890  \t0.63559  \n",
      "1024  \t51427   \t0.01991\t[-0.02788,-0.02210,-0.01641]\t[-0.03320,-0.02541,-0.01657]\t0.86613  \t0.67610  \n",
      "2048  \t127114  \t0.01611\t[-0.02710,-0.02285,-0.01691]\t[-0.02865,-0.02257,-0.01465]\t0.98000  \t0.75946  \n",
      "4096  \t264898  \t0.01546\t[-0.02523,-0.02271,-0.01838]\t[-0.02690,-0.02119,-0.01577]\t0.98000  \t0.83412  \n",
      "8192  \t487714  \t0.01680\t[-0.02781,-0.02246,-0.02057]\t[-0.03064,-0.02287,-0.01960]\t0.96855  \t0.82958  \n",
      "16384 \t763140  \t0.02147\t[-0.02630,-0.02286,-0.02149]\t[-0.02641,-0.02460,-0.02114]\t0.90853  \t0.86686  \n",
      "32768 \t1224098 \t0.02677\t[-0.02579,-0.02338,-0.02111]\t[-0.02637,-0.02345,-0.02021]\t0.40963  \t0.87391  \n",
      "65536 \t2171133 \t0.03019\t[-0.02559,-0.02424,-0.02142]\t[-0.02713,-0.02468,-0.02094]\t0.64122  \t0.88700  \n",
      "131072\t4068780 \t0.03221\t[-0.02639,-0.02552,-0.02317]\t[-0.02741,-0.02628,-0.02330]\t0.75111  \t0.88119  \n",
      "262144\t8217893 \t0.03190\t[-0.02584,-0.02531,-0.02365]\t[-0.02563,-0.02503,-0.02326]\t0.97812  \t0.86950  \n",
      "524288\t16679293\t0.03143\t[-0.02632,-0.02586,-0.02461]\t[-0.02720,-0.02636,-0.02556]\t0.97793  \t0.86441  \n",
      "1048576\t33458221\t0.03134\t[-0.02625,-0.02563,-0.02529]\t[-0.02632,-0.02569,-0.02485]\t0.97857  \t0.86242  \n",
      "1387715\t43741224\t0.03173\t[-0.02615,-0.02580,-0.02540]\t[-0.02648,-0.02611,-0.02536]\t0.00357  \t0.86440  \n"
     ]
    }
   ],
   "source": [
    "# ips is much worse (?)\n",
    "\n",
    "forkit(evalit, (),\n",
    "       kwds = {\n",
    "         'path' : '/mnt/c/Users/pmineiro/Downloads/iris/', \n",
    "         'seed' : 4545,\n",
    "         'maxratio' : 1/(0.2/5),\n",
    "         'veedub' : '--cb_explore_adf --softmax --epsilon 0.025 --lambda 160 --dsjson -q RA -q PA --cb_type mtr -l 0.1 --l1 1e-06 --power_t 0'\n",
    "       })"
   ]
  },
  {
   "cell_type": "markdown",
   "metadata": {},
   "source": [
    "## rnd\n",
    "\n",
    "`-b 24 --cb_explore_adf --epsilon 0.01 --rnd 1 --rnd_alpha 1e-12 --rnd_invlambda 1e-5 --dsjson --cb_type mtr -q RA -q PA -l 5e-1 --power_t 0`"
   ]
  },
  {
   "cell_type": "raw",
   "metadata": {},
   "source": [
    "n     \tn raw   \taccept\tcost                        \tsince last                  \tpi[a]    \tsince last pi[a]\n",
    "1048576\t38393771\t0.02731\t[-0.02752,-0.02709,-0.02659]\t[-0.02786,-0.02719,-0.02630]\t0.99143  \t0.95434  "
   ]
  },
  {
   "cell_type": "markdown",
   "metadata": {
    "heading_collapsed": true
   },
   "source": [
    "# Dragoonz"
   ]
  },
  {
   "cell_type": "markdown",
   "metadata": {
    "hidden": true
   },
   "source": [
    "## regcb\n",
    "\n",
    "I played around but consistently got poor results (?)."
   ]
  },
  {
   "cell_type": "raw",
   "metadata": {
    "hidden": true
   },
   "source": [
    "n        \tn raw    \taccept   \tcost     \tsince last\tpi[a]    \tsince last pi[a]\n",
    "1476085  \t43741224 \t0.03375  \t-0.01918 \t-0.01918 \t0.14286  \t0.15249  "
   ]
  },
  {
   "cell_type": "markdown",
   "metadata": {
    "heading_collapsed": true,
    "hidden": true
   },
   "source": [
    "### Details"
   ]
  },
  {
   "cell_type": "code",
   "execution_count": 4,
   "metadata": {
    "hidden": true
   },
   "outputs": [
    {
     "name": "stdout",
     "output_type": "stream",
     "text": [
      "n        \tn raw    \taccept   \tcost     \tsince last\tpi[a]    \tsince last pi[a]\n",
      "1        \t60       \t0.01667  \t0.00000  \t0.00000  \t0.20000  \t0.20000  \n",
      "2        \t72       \t0.02778  \t0.00000  \t0.00000  \t0.20000  \t0.20000  \n",
      "4        \t87       \t0.04598  \t0.00000  \t0.00000  \t0.16667  \t0.18333  \n",
      "8        \t185      \t0.04324  \t0.00000  \t0.00000  \t0.20000  \t0.18333  \n",
      "16       \t269      \t0.05948  \t-0.06250 \t-0.06250 \t0.20000  \t0.22917  \n",
      "32       \t714      \t0.04482  \t-0.03125 \t-0.03125 \t0.16667  \t0.18750  \n",
      "64       \t1760     \t0.03636  \t-0.03125 \t-0.03125 \t0.20000  \t0.17917  \n",
      "128      \t4003     \t0.03198  \t-0.03906 \t-0.03906 \t0.16667  \t0.18828  \n",
      "256      \t8029     \t0.03188  \t-0.03906 \t-0.03906 \t0.20000  \t0.19754  \n",
      "512      \t15626    \t0.03277  \t-0.02734 \t-0.02734 \t0.16667  \t0.19255  \n",
      "1024     \t30625    \t0.03344  \t-0.02637 \t-0.02637 \t0.50000  \t0.19400  \n",
      "2048     \t61523    \t0.03329  \t-0.02441 \t-0.02441 \t0.20000  \t0.20601  \n",
      "4096     \t128402   \t0.03190  \t-0.02417 \t-0.02417 \t0.50000  \t0.23526  \n",
      "8192     \t269162   \t0.03044  \t-0.02161 \t-0.02161 \t0.20000  \t0.26949  \n",
      "16384    \t535424   \t0.03060  \t-0.02356 \t-0.02356 \t0.33333  \t0.23134  \n",
      "32768    \t1079680  \t0.03035  \t-0.02319 \t-0.02319 \t0.20000  \t0.24312  \n",
      "65536    \t2082243  \t0.03147  \t-0.02214 \t-0.02214 \t0.20000  \t0.18595  \n",
      "131072   \t4052933  \t0.03234  \t-0.02190 \t-0.02190 \t0.16667  \t0.17070  \n",
      "262144   \t7943260  \t0.03300  \t-0.02026 \t-0.02026 \t0.14286  \t0.15432  \n",
      "524288   \t15613142 \t0.03358  \t-0.01973 \t-0.01973 \t0.12500  \t0.14538  \n",
      "1048576  \t31084040 \t0.03373  \t-0.01948 \t-0.01948 \t0.16667  \t0.14903  \n",
      "1476085  \t43741224 \t0.03375  \t-0.01918 \t-0.01918 \t0.14286  \t0.15249  \n"
     ]
    }
   ],
   "source": [
    "forkit(evalit, (),\n",
    "       kwds = {\n",
    "         'path' : '/mnt/c/Users/pmineiro/Downloads/iris/', \n",
    "         'seed' : 4545,\n",
    "         'maxratio' : 1/(0.2/5),\n",
    "         'veedub' : '-b 24 --cb_explore_adf --regcb --mellowness 1e-3 --dsjson -q RA -q PA --cb_type mtr -l 1 --l1 1e-06 --power_t 0'\n",
    "       })"
   ]
  },
  {
   "cell_type": "markdown",
   "metadata": {
    "hidden": true
   },
   "source": [
    "## rnd"
   ]
  },
  {
   "cell_type": "raw",
   "metadata": {
    "hidden": true
   },
   "source": [
    "n        \tn raw    \taccept   \tcost     \tsince last\tpi[a]    \tsince last pi[a]\n",
    "1445544  \t43741224 \t0.03305  \t-0.02629 \t-0.02629 \t0.00357  \t0.74349  "
   ]
  },
  {
   "cell_type": "markdown",
   "metadata": {
    "heading_collapsed": true,
    "hidden": true
   },
   "source": [
    "### Details"
   ]
  },
  {
   "cell_type": "code",
   "execution_count": 3,
   "metadata": {
    "hidden": true
   },
   "outputs": [
    {
     "name": "stdout",
     "output_type": "stream",
     "text": [
      "n        \tn raw    \taccept   \tcost     \tsince last\tpi[a]    \tsince last pi[a]\n",
      "1        \t60       \t0.01667  \t0.00000  \t0.00000  \t0.18838  \t0.18838  \n",
      "2        \t72       \t0.02778  \t0.00000  \t0.00000  \t0.22478  \t0.22478  \n",
      "4        \t87       \t0.04598  \t0.00000  \t0.00000  \t0.15170  \t0.18315  \n",
      "8        \t185      \t0.04324  \t0.00000  \t0.00000  \t0.24072  \t0.17813  \n",
      "16       \t269      \t0.05948  \t-0.06250 \t-0.06250 \t0.24236  \t0.23219  \n",
      "32       \t672      \t0.04762  \t-0.03125 \t-0.03125 \t0.11053  \t0.42559  \n",
      "64       \t1521     \t0.04208  \t-0.03125 \t-0.03125 \t0.23614  \t0.24205  \n",
      "128      \t3373     \t0.03795  \t-0.02344 \t-0.02344 \t0.25018  \t0.39891  \n",
      "256      \t6700     \t0.03821  \t-0.03516 \t-0.03516 \t0.56028  \t0.48760  \n",
      "512      \t15895    \t0.03221  \t-0.02539 \t-0.02539 \t0.94873  \t0.42831  \n",
      "1024     \t31151    \t0.03287  \t-0.02637 \t-0.02637 \t0.98000  \t0.52850  \n",
      "2048     \t64186    \t0.03191  \t-0.02344 \t-0.02344 \t0.52553  \t0.61042  \n",
      "4096     \t138417   \t0.02959  \t-0.02808 \t-0.02808 \t0.95989  \t0.68995  \n",
      "8192     \t364928   \t0.02245  \t-0.02710 \t-0.02710 \t0.97917  \t0.73846  \n",
      "16384    \t672741   \t0.02435  \t-0.02600 \t-0.02600 \t0.97857  \t0.81876  \n",
      "32768    \t1296805  \t0.02527  \t-0.02521 \t-0.02521 \t0.12845  \t0.83652  \n",
      "65536    \t2284228  \t0.02869  \t-0.02585 \t-0.02585 \t0.97857  \t0.88253  \n",
      "131072   \t4188286  \t0.03129  \t-0.02638 \t-0.02638 \t0.97857  \t0.85928  \n",
      "262144   \t8159923  \t0.03213  \t-0.02565 \t-0.02565 \t0.94702  \t0.82388  \n",
      "524288   \t15830577 \t0.03312  \t-0.02618 \t-0.02618 \t0.97857  \t0.81825  \n",
      "1048576  \t31264292 \t0.03354  \t-0.02608 \t-0.02608 \t0.56435  \t0.76027  \n",
      "1445544  \t43741224 \t0.03305  \t-0.02629 \t-0.02629 \t0.00357  \t0.74349  \n"
     ]
    }
   ],
   "source": [
    "forkit(evalit, (),\n",
    "       kwds = {\n",
    "         'path' : '/mnt/c/Users/pmineiro/Downloads/iris/', \n",
    "         'seed' : 4545,\n",
    "         'maxratio' : 1/(0.2/5),\n",
    "         'veedub' : '-b 24 --cb_explore_adf --rnd 3 --epsilon 0.025 --rnd_alpha 1e-12 --rnd_invlambda 1e-5 --dsjson --cb_type mtr -q RA -q PA -l 1e-2 --l1 1e-06 --power_t 0'\n",
    "       })"
   ]
  },
  {
   "cell_type": "code",
   "execution_count": null,
   "metadata": {
    "hidden": true
   },
   "outputs": [],
   "source": []
  }
 ],
 "metadata": {
  "kernelspec": {
   "display_name": "Python 3",
   "language": "python",
   "name": "python3"
  },
  "language_info": {
   "codemirror_mode": {
    "name": "ipython",
    "version": 3
   },
   "file_extension": ".py",
   "mimetype": "text/x-python",
   "name": "python",
   "nbconvert_exporter": "python",
   "pygments_lexer": "ipython3",
   "version": "3.7.4"
  }
 },
 "nbformat": 4,
 "nbformat_minor": 4
}
